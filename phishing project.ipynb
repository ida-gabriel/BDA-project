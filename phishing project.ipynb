{
 "cells": [
  {
   "cell_type": "markdown",
   "id": "42af302d",
   "metadata": {},
   "source": [
    "### Preparing the dataset"
   ]
  },
  {
   "cell_type": "code",
   "execution_count": 1,
   "id": "eba79dac",
   "metadata": {},
   "outputs": [],
   "source": [
    "#Imports\n",
    "import pandas as pd\n",
    "import numpy as np\n",
    "from sklearn.model_selection import train_test_split\n",
    "from sklearn.preprocessing import StandardScaler\n",
    "import matplotlib.pyplot as plt\n",
    "import warnings\n",
    "import mglearn"
   ]
  },
  {
   "cell_type": "code",
   "execution_count": 2,
   "id": "187cd4a6",
   "metadata": {},
   "outputs": [],
   "source": [
    "#Reading the csv file\n",
    "phishing = pd.read_csv(\"phishing data.csv\")"
   ]
  },
  {
   "cell_type": "code",
   "execution_count": 3,
   "id": "0087e84a",
   "metadata": {},
   "outputs": [
    {
     "data": {
      "text/html": [
       "<div>\n",
       "<style scoped>\n",
       "    .dataframe tbody tr th:only-of-type {\n",
       "        vertical-align: middle;\n",
       "    }\n",
       "\n",
       "    .dataframe tbody tr th {\n",
       "        vertical-align: top;\n",
       "    }\n",
       "\n",
       "    .dataframe thead th {\n",
       "        text-align: right;\n",
       "    }\n",
       "</style>\n",
       "<table border=\"1\" class=\"dataframe\">\n",
       "  <thead>\n",
       "    <tr style=\"text-align: right;\">\n",
       "      <th></th>\n",
       "      <th>url</th>\n",
       "      <th>length_url</th>\n",
       "      <th>length_hostname</th>\n",
       "      <th>ip</th>\n",
       "      <th>nb_dots</th>\n",
       "      <th>nb_hyphens</th>\n",
       "      <th>nb_at</th>\n",
       "      <th>nb_qm</th>\n",
       "      <th>nb_and</th>\n",
       "      <th>nb_or</th>\n",
       "      <th>...</th>\n",
       "      <th>domain_in_title</th>\n",
       "      <th>domain_with_copyright</th>\n",
       "      <th>whois_registered_domain</th>\n",
       "      <th>domain_registration_length</th>\n",
       "      <th>domain_age</th>\n",
       "      <th>web_traffic</th>\n",
       "      <th>dns_record</th>\n",
       "      <th>google_index</th>\n",
       "      <th>page_rank</th>\n",
       "      <th>status</th>\n",
       "    </tr>\n",
       "  </thead>\n",
       "  <tbody>\n",
       "    <tr>\n",
       "      <th>0</th>\n",
       "      <td>http://www.crestonwood.com/router.php</td>\n",
       "      <td>37</td>\n",
       "      <td>19</td>\n",
       "      <td>0</td>\n",
       "      <td>3</td>\n",
       "      <td>0</td>\n",
       "      <td>0</td>\n",
       "      <td>0</td>\n",
       "      <td>0</td>\n",
       "      <td>0</td>\n",
       "      <td>...</td>\n",
       "      <td>0</td>\n",
       "      <td>1</td>\n",
       "      <td>0</td>\n",
       "      <td>45</td>\n",
       "      <td>-1</td>\n",
       "      <td>0</td>\n",
       "      <td>1</td>\n",
       "      <td>1</td>\n",
       "      <td>4</td>\n",
       "      <td>legitimate</td>\n",
       "    </tr>\n",
       "    <tr>\n",
       "      <th>1</th>\n",
       "      <td>http://shadetreetechnology.com/V4/validation/a...</td>\n",
       "      <td>77</td>\n",
       "      <td>23</td>\n",
       "      <td>1</td>\n",
       "      <td>1</td>\n",
       "      <td>0</td>\n",
       "      <td>0</td>\n",
       "      <td>0</td>\n",
       "      <td>0</td>\n",
       "      <td>0</td>\n",
       "      <td>...</td>\n",
       "      <td>1</td>\n",
       "      <td>0</td>\n",
       "      <td>0</td>\n",
       "      <td>77</td>\n",
       "      <td>5767</td>\n",
       "      <td>0</td>\n",
       "      <td>0</td>\n",
       "      <td>1</td>\n",
       "      <td>2</td>\n",
       "      <td>phishing</td>\n",
       "    </tr>\n",
       "    <tr>\n",
       "      <th>2</th>\n",
       "      <td>https://support-appleld.com.secureupdate.duila...</td>\n",
       "      <td>126</td>\n",
       "      <td>50</td>\n",
       "      <td>1</td>\n",
       "      <td>4</td>\n",
       "      <td>1</td>\n",
       "      <td>0</td>\n",
       "      <td>1</td>\n",
       "      <td>2</td>\n",
       "      <td>0</td>\n",
       "      <td>...</td>\n",
       "      <td>1</td>\n",
       "      <td>0</td>\n",
       "      <td>0</td>\n",
       "      <td>14</td>\n",
       "      <td>4004</td>\n",
       "      <td>5828815</td>\n",
       "      <td>0</td>\n",
       "      <td>1</td>\n",
       "      <td>0</td>\n",
       "      <td>phishing</td>\n",
       "    </tr>\n",
       "    <tr>\n",
       "      <th>3</th>\n",
       "      <td>http://rgipt.ac.in</td>\n",
       "      <td>18</td>\n",
       "      <td>11</td>\n",
       "      <td>0</td>\n",
       "      <td>2</td>\n",
       "      <td>0</td>\n",
       "      <td>0</td>\n",
       "      <td>0</td>\n",
       "      <td>0</td>\n",
       "      <td>0</td>\n",
       "      <td>...</td>\n",
       "      <td>1</td>\n",
       "      <td>0</td>\n",
       "      <td>0</td>\n",
       "      <td>62</td>\n",
       "      <td>-1</td>\n",
       "      <td>107721</td>\n",
       "      <td>0</td>\n",
       "      <td>0</td>\n",
       "      <td>3</td>\n",
       "      <td>legitimate</td>\n",
       "    </tr>\n",
       "    <tr>\n",
       "      <th>4</th>\n",
       "      <td>http://www.iracing.com/tracks/gateway-motorspo...</td>\n",
       "      <td>55</td>\n",
       "      <td>15</td>\n",
       "      <td>0</td>\n",
       "      <td>2</td>\n",
       "      <td>2</td>\n",
       "      <td>0</td>\n",
       "      <td>0</td>\n",
       "      <td>0</td>\n",
       "      <td>0</td>\n",
       "      <td>...</td>\n",
       "      <td>0</td>\n",
       "      <td>1</td>\n",
       "      <td>0</td>\n",
       "      <td>224</td>\n",
       "      <td>8175</td>\n",
       "      <td>8725</td>\n",
       "      <td>0</td>\n",
       "      <td>0</td>\n",
       "      <td>6</td>\n",
       "      <td>legitimate</td>\n",
       "    </tr>\n",
       "  </tbody>\n",
       "</table>\n",
       "<p>5 rows × 89 columns</p>\n",
       "</div>"
      ],
      "text/plain": [
       "                                                 url  length_url  \\\n",
       "0              http://www.crestonwood.com/router.php          37   \n",
       "1  http://shadetreetechnology.com/V4/validation/a...          77   \n",
       "2  https://support-appleld.com.secureupdate.duila...         126   \n",
       "3                                 http://rgipt.ac.in          18   \n",
       "4  http://www.iracing.com/tracks/gateway-motorspo...          55   \n",
       "\n",
       "   length_hostname  ip  nb_dots  nb_hyphens  nb_at  nb_qm  nb_and  nb_or  ...  \\\n",
       "0               19   0        3           0      0      0       0      0  ...   \n",
       "1               23   1        1           0      0      0       0      0  ...   \n",
       "2               50   1        4           1      0      1       2      0  ...   \n",
       "3               11   0        2           0      0      0       0      0  ...   \n",
       "4               15   0        2           2      0      0       0      0  ...   \n",
       "\n",
       "   domain_in_title  domain_with_copyright  whois_registered_domain  \\\n",
       "0                0                      1                        0   \n",
       "1                1                      0                        0   \n",
       "2                1                      0                        0   \n",
       "3                1                      0                        0   \n",
       "4                0                      1                        0   \n",
       "\n",
       "   domain_registration_length  domain_age  web_traffic  dns_record  \\\n",
       "0                          45          -1            0           1   \n",
       "1                          77        5767            0           0   \n",
       "2                          14        4004      5828815           0   \n",
       "3                          62          -1       107721           0   \n",
       "4                         224        8175         8725           0   \n",
       "\n",
       "   google_index  page_rank      status  \n",
       "0             1          4  legitimate  \n",
       "1             1          2    phishing  \n",
       "2             1          0    phishing  \n",
       "3             0          3  legitimate  \n",
       "4             0          6  legitimate  \n",
       "\n",
       "[5 rows x 89 columns]"
      ]
     },
     "execution_count": 3,
     "metadata": {},
     "output_type": "execute_result"
    }
   ],
   "source": [
    "#Display of the data\n",
    "phishing.head()"
   ]
  },
  {
   "cell_type": "markdown",
   "id": "fc1b3271",
   "metadata": {},
   "source": [
    "### Splitting the data into a training set and a test set"
   ]
  },
  {
   "cell_type": "code",
   "execution_count": 38,
   "id": "ce0c38d9",
   "metadata": {},
   "outputs": [
    {
     "name": "stdout",
     "output_type": "stream",
     "text": [
      "x has shape (11430, 87)\n",
      "y has shape (11430,)\n"
     ]
    }
   ],
   "source": [
    "#Splitting the data into the data, X, and the target, y\n",
    "X = phishing.drop('status', axis=1).drop(\"url\", axis=1)\n",
    "y = phishing['status'].replace({\"phishing\":1, \"legitimate\":0}, regex=True)\n",
    "\n",
    "print(\"x has shape\", X.shape)\n",
    "print(\"y has shape\", y.shape)"
   ]
  },
  {
   "cell_type": "code",
   "execution_count": 39,
   "id": "dae7e8d1",
   "metadata": {},
   "outputs": [
    {
     "name": "stdout",
     "output_type": "stream",
     "text": [
      "X_train has shape (8572, 87)\n",
      "X_test has shape (2858, 87)\n",
      "y_train has shape (8572,)\n",
      "y_test has shape (2858,)\n"
     ]
    }
   ],
   "source": [
    "#Splitting the data into a train and test set\n",
    "X_train, X_test, y_train, y_test = train_test_split(X, y, stratify=y, random_state=0)\n",
    "\n",
    "print(\"X_train has shape\", X_train.shape)\n",
    "print(\"X_test has shape\", X_test.shape)\n",
    "print(\"y_train has shape\", y_train.shape)\n",
    "print(\"y_test has shape\", y_test.shape)"
   ]
  },
  {
   "cell_type": "markdown",
   "id": "3efc2997",
   "metadata": {},
   "source": [
    "### Scaling the data"
   ]
  },
  {
   "cell_type": "code",
   "execution_count": 40,
   "id": "165e1d1e",
   "metadata": {},
   "outputs": [],
   "source": [
    "#Code for scaling\n",
    "phishingscaled = StandardScaler().fit(X_train, y_train)\n",
    "X_train = phishingscaled.fit_transform(X_train)\n",
    "X_test = phishingscaled.fit_transform(X_test)"
   ]
  },
  {
   "cell_type": "markdown",
   "id": "2a9d4e8a",
   "metadata": {},
   "source": [
    "### Linear Support Vector Classifier"
   ]
  },
  {
   "cell_type": "code",
   "execution_count": 41,
   "id": "fa5814f2",
   "metadata": {},
   "outputs": [
    {
     "name": "stdout",
     "output_type": "stream",
     "text": [
      "Accuracy on training set: 0.9503\n",
      "Accuracy on test set: 0.9388\n"
     ]
    }
   ],
   "source": [
    "#Linear Regression\n",
    "from sklearn.svm import LinearSVC\n",
    "\n",
    "linsvc = LinearSVC().fit(X_train, y_train)\n",
    "\n",
    "print(\"Accuracy on training set: {:.4f}\".format(linsvc.score(X_train, y_train)))\n",
    "print(\"Accuracy on test set: {:.4f}\".format(linsvc.score(X_test, y_test)))"
   ]
  },
  {
   "cell_type": "code",
   "execution_count": 9,
   "id": "85a6bd8f",
   "metadata": {},
   "outputs": [
    {
     "name": "stdout",
     "output_type": "stream",
     "text": [
      "\n",
      "Lowest coefficients: [('nb_space', -0.31376211607180743), ('google_index', -0.4900854649387314), ('avg_words_raw', -0.5364921447159244)]\n",
      "\n",
      "Highest coefficients: [('shortest_word_path', 1.6493750181717488), ('nb_comma', 0.5464377650124547), ('dns_record', 0.48849808917844795)]\n",
      "\n",
      "Coefficients closest to zero: [('ratio_extRedirection', 0.0), ('links_in_tags', 0.0), ('ratio_extMedia', 0.0)]\n"
     ]
    }
   ],
   "source": [
    "#Coefficients\n",
    "linsvccoefs=linsvc.coef_[0]\n",
    "\n",
    "sort = sorted((zip(phishing, linsvccoefs)), key = lambda e:e[1], reverse = True)\n",
    "\n",
    "abs_linsvc_coef = abs(linsvccoefs)\n",
    "abs_sort = sorted((zip(phishing, abs_linsvc_coef)), key = lambda e:e[1], reverse = True)\n",
    "\n",
    "print('\\nLowest coefficients:', (str(sort[-3:])))\n",
    "print('\\nHighest coefficients:', str(sort[:3]))\n",
    "print('\\nCoefficients closest to zero:', (str(abs_sort[-3:])))"
   ]
  },
  {
   "cell_type": "markdown",
   "id": "3dafd20b",
   "metadata": {},
   "source": [
    "### Logistic Regression"
   ]
  },
  {
   "cell_type": "code",
   "execution_count": 43,
   "id": "e239f28b",
   "metadata": {},
   "outputs": [
    {
     "name": "stdout",
     "output_type": "stream",
     "text": [
      "Accuracy on training set: 0.9504\n",
      "Accuracy on test set: 0.9398\n"
     ]
    }
   ],
   "source": [
    "#Logistic Regression\n",
    "from sklearn.linear_model import LogisticRegression\n",
    "\n",
    "logreg = LogisticRegression(random_state=0).fit(X_train, y_train)\n",
    "\n",
    "print(\"Accuracy on training set: {:.4f}\".format(logreg.score(X_train, y_train)))\n",
    "print(\"Accuracy on test set: {:.4f}\".format(logreg.score(X_test, y_test)))"
   ]
  },
  {
   "cell_type": "code",
   "execution_count": 11,
   "id": "971217bb",
   "metadata": {},
   "outputs": [
    {
     "name": "stdout",
     "output_type": "stream",
     "text": [
      "\n",
      "Lowest coefficients: [('nb_space', -1.0837601393072518), ('avg_words_raw', -1.096919599989223), ('google_index', -1.6170434994392224)]\n",
      "\n",
      "Highest coefficients: [('shortest_word_path', 3.7470588745419016), ('avg_word_path', 1.6308210108576306), ('nb_comma', 1.60851224709512)]\n",
      "\n",
      "Coefficients closest to zero: [('ratio_extRedirection', 0.0), ('links_in_tags', 0.0), ('ratio_extMedia', 0.0)]\n"
     ]
    }
   ],
   "source": [
    "#Coefficients\n",
    "logregcoefs=logreg.coef_[0]\n",
    "\n",
    "sort = sorted((zip(phishing, logregcoefs)), key = lambda e:e[1], reverse = True)\n",
    "\n",
    "abs_logreg_coef = abs(logregcoefs)\n",
    "abs_sort = sorted((zip(phishing, abs_logreg_coef)), key = lambda e:e[1], reverse = True)\n",
    "\n",
    "print('\\nLowest coefficients:', (str(sort[-3:])))\n",
    "print('\\nHighest coefficients:', str(sort[:3]))\n",
    "print('\\nCoefficients closest to zero:', (str(abs_sort[-3:])))"
   ]
  },
  {
   "cell_type": "code",
   "execution_count": 51,
   "id": "3b61849b",
   "metadata": {},
   "outputs": [
    {
     "name": "stdout",
     "output_type": "stream",
     "text": [
      "Test accuracy: 0.9398, Train accuracy: 0.9504, C value: 1\n",
      "Test accuracy: 0.9398, Train accuracy: 0.9510, C value: 10\n",
      "Test accuracy: 0.9395, Train accuracy: 0.9490, C value: 0.1\n",
      "Test accuracy: 0.9395, Train accuracy: 0.9510, C value: 50\n",
      "Test accuracy: 0.9391, Train accuracy: 0.9510, C value: 100\n",
      "Test accuracy: 0.9286, Train accuracy: 0.9347, C value: 0.001\n",
      "Test accuracy: 0.9094, Train accuracy: 0.9159, C value: 0.0001\n"
     ]
    }
   ],
   "source": [
    "#test of c values\n",
    "warnings.filterwarnings('ignore')\n",
    "list = []\n",
    "values = [0.0001, 0.001, 0.1, 1, 10, 50, 100]\n",
    "\n",
    "for c in values:\n",
    "    logreg_c = LogisticRegression(C = c).fit(X_train, y_train)\n",
    "    accuracy = (logreg_c.score(X_test, y_test), logreg_c.score(X_train, y_train), c)\n",
    "    list.append(accuracy)\n",
    "\n",
    "for z in sorted(list, key = lambda e:e[0], reverse=True):\n",
    "    print('Test accuracy: {:.4f}, Train accuracy: {:.4f}, C value: {}'.format(z[0], z[1], z[2],))"
   ]
  },
  {
   "cell_type": "markdown",
   "id": "47a53cd5",
   "metadata": {},
   "source": [
    "### Decision Tree Classifier"
   ]
  },
  {
   "cell_type": "code",
   "execution_count": 53,
   "id": "c3776098",
   "metadata": {},
   "outputs": [
    {
     "name": "stdout",
     "output_type": "stream",
     "text": [
      "Accuracy on training set: 1.0000\n",
      "Accuracy on test set: 0.9227\n"
     ]
    }
   ],
   "source": [
    "#Decision Tree Classifier\n",
    "from sklearn.tree import DecisionTreeClassifier\n",
    "\n",
    "phishingdt = DecisionTreeClassifier(random_state=0).fit(X_train, y_train)\n",
    "\n",
    "print(\"Accuracy on training set: {:.4f}\".format(phishingdt.score(X_train, y_train)))\n",
    "print(\"Accuracy on test set: {:.4f}\".format(phishingdt.score(X_test, y_test)))"
   ]
  },
  {
   "cell_type": "code",
   "execution_count": 14,
   "id": "94738f6c",
   "metadata": {},
   "outputs": [
    {
     "data": {
      "image/svg+xml": [
       "<?xml version=\"1.0\" encoding=\"UTF-8\" standalone=\"no\"?>\n",
       "<!DOCTYPE svg PUBLIC \"-//W3C//DTD SVG 1.1//EN\"\n",
       " \"http://www.w3.org/Graphics/SVG/1.1/DTD/svg11.dtd\">\n",
       "<!-- Generated by graphviz version 2.50.0 (0)\n",
       " -->\n",
       "<!-- Title: Tree Pages: 1 -->\n",
       "<svg width=\"1137pt\" height=\"433pt\"\n",
       " viewBox=\"0.00 0.00 1136.50 433.00\" xmlns=\"http://www.w3.org/2000/svg\" xmlns:xlink=\"http://www.w3.org/1999/xlink\">\n",
       "<g id=\"graph0\" class=\"graph\" transform=\"scale(1 1) rotate(0) translate(4 429)\">\n",
       "<title>Tree</title>\n",
       "<polygon fill=\"white\" stroke=\"transparent\" points=\"-4,4 -4,-429 1132.5,-429 1132.5,4 -4,4\"/>\n",
       "<!-- 0 -->\n",
       "<g id=\"node1\" class=\"node\">\n",
       "<title>0</title>\n",
       "<polygon fill=\"none\" stroke=\"black\" points=\"619.5,-425 455.5,-425 455.5,-342 619.5,-342 619.5,-425\"/>\n",
       "<text text-anchor=\"middle\" x=\"537.5\" y=\"-409.8\" font-family=\"Helvetica,sans-Serif\" font-size=\"14.00\">google_index &lt;= &#45;0.068</text>\n",
       "<text text-anchor=\"middle\" x=\"537.5\" y=\"-394.8\" font-family=\"Helvetica,sans-Serif\" font-size=\"14.00\">gini = 0.5</text>\n",
       "<text text-anchor=\"middle\" x=\"537.5\" y=\"-379.8\" font-family=\"Helvetica,sans-Serif\" font-size=\"14.00\">samples = 8572</text>\n",
       "<text text-anchor=\"middle\" x=\"537.5\" y=\"-364.8\" font-family=\"Helvetica,sans-Serif\" font-size=\"14.00\">value = [4286, 4286]</text>\n",
       "<text text-anchor=\"middle\" x=\"537.5\" y=\"-349.8\" font-family=\"Helvetica,sans-Serif\" font-size=\"14.00\">class = legitimate</text>\n",
       "</g>\n",
       "<!-- 1 -->\n",
       "<g id=\"node2\" class=\"node\">\n",
       "<title>1</title>\n",
       "<polygon fill=\"none\" stroke=\"black\" points=\"521.5,-306 375.5,-306 375.5,-223 521.5,-223 521.5,-306\"/>\n",
       "<text text-anchor=\"middle\" x=\"448.5\" y=\"-290.8\" font-family=\"Helvetica,sans-Serif\" font-size=\"14.00\">page_rank &lt;= &#45;1.059</text>\n",
       "<text text-anchor=\"middle\" x=\"448.5\" y=\"-275.8\" font-family=\"Helvetica,sans-Serif\" font-size=\"14.00\">gini = 0.193</text>\n",
       "<text text-anchor=\"middle\" x=\"448.5\" y=\"-260.8\" font-family=\"Helvetica,sans-Serif\" font-size=\"14.00\">samples = 3994</text>\n",
       "<text text-anchor=\"middle\" x=\"448.5\" y=\"-245.8\" font-family=\"Helvetica,sans-Serif\" font-size=\"14.00\">value = [3563, 431]</text>\n",
       "<text text-anchor=\"middle\" x=\"448.5\" y=\"-230.8\" font-family=\"Helvetica,sans-Serif\" font-size=\"14.00\">class = legitimate</text>\n",
       "</g>\n",
       "<!-- 0&#45;&gt;1 -->\n",
       "<g id=\"edge1\" class=\"edge\">\n",
       "<title>0&#45;&gt;1</title>\n",
       "<path fill=\"none\" stroke=\"black\" d=\"M506.62,-341.91C499.79,-332.92 492.48,-323.32 485.43,-314.05\"/>\n",
       "<polygon fill=\"black\" stroke=\"black\" points=\"488.16,-311.86 479.32,-306.02 482.59,-316.1 488.16,-311.86\"/>\n",
       "<text text-anchor=\"middle\" x=\"475.96\" y=\"-327.09\" font-family=\"Helvetica,sans-Serif\" font-size=\"14.00\">True</text>\n",
       "</g>\n",
       "<!-- 8 -->\n",
       "<g id=\"node9\" class=\"node\">\n",
       "<title>8</title>\n",
       "<polygon fill=\"none\" stroke=\"black\" points=\"741.5,-306 595.5,-306 595.5,-223 741.5,-223 741.5,-306\"/>\n",
       "<text text-anchor=\"middle\" x=\"668.5\" y=\"-290.8\" font-family=\"Helvetica,sans-Serif\" font-size=\"14.00\">page_rank &lt;= &#45;0.267</text>\n",
       "<text text-anchor=\"middle\" x=\"668.5\" y=\"-275.8\" font-family=\"Helvetica,sans-Serif\" font-size=\"14.00\">gini = 0.266</text>\n",
       "<text text-anchor=\"middle\" x=\"668.5\" y=\"-260.8\" font-family=\"Helvetica,sans-Serif\" font-size=\"14.00\">samples = 4578</text>\n",
       "<text text-anchor=\"middle\" x=\"668.5\" y=\"-245.8\" font-family=\"Helvetica,sans-Serif\" font-size=\"14.00\">value = [723, 3855]</text>\n",
       "<text text-anchor=\"middle\" x=\"668.5\" y=\"-230.8\" font-family=\"Helvetica,sans-Serif\" font-size=\"14.00\">class = phishing</text>\n",
       "</g>\n",
       "<!-- 0&#45;&gt;8 -->\n",
       "<g id=\"edge8\" class=\"edge\">\n",
       "<title>0&#45;&gt;8</title>\n",
       "<path fill=\"none\" stroke=\"black\" d=\"M582.95,-341.91C593.42,-332.56 604.64,-322.54 615.4,-312.93\"/>\n",
       "<polygon fill=\"black\" stroke=\"black\" points=\"618,-315.29 623.13,-306.02 613.34,-310.07 618,-315.29\"/>\n",
       "<text text-anchor=\"middle\" x=\"621.72\" y=\"-327.28\" font-family=\"Helvetica,sans-Serif\" font-size=\"14.00\">False</text>\n",
       "</g>\n",
       "<!-- 2 -->\n",
       "<g id=\"node3\" class=\"node\">\n",
       "<title>2</title>\n",
       "<polygon fill=\"none\" stroke=\"black\" points=\"281.5,-187 105.5,-187 105.5,-104 281.5,-104 281.5,-187\"/>\n",
       "<text text-anchor=\"middle\" x=\"193.5\" y=\"-171.8\" font-family=\"Helvetica,sans-Serif\" font-size=\"14.00\">avg_word_path &lt;= &#45;0.559</text>\n",
       "<text text-anchor=\"middle\" x=\"193.5\" y=\"-156.8\" font-family=\"Helvetica,sans-Serif\" font-size=\"14.00\">gini = 0.394</text>\n",
       "<text text-anchor=\"middle\" x=\"193.5\" y=\"-141.8\" font-family=\"Helvetica,sans-Serif\" font-size=\"14.00\">samples = 200</text>\n",
       "<text text-anchor=\"middle\" x=\"193.5\" y=\"-126.8\" font-family=\"Helvetica,sans-Serif\" font-size=\"14.00\">value = [54, 146]</text>\n",
       "<text text-anchor=\"middle\" x=\"193.5\" y=\"-111.8\" font-family=\"Helvetica,sans-Serif\" font-size=\"14.00\">class = phishing</text>\n",
       "</g>\n",
       "<!-- 1&#45;&gt;2 -->\n",
       "<g id=\"edge2\" class=\"edge\">\n",
       "<title>1&#45;&gt;2</title>\n",
       "<path fill=\"none\" stroke=\"black\" d=\"M375.43,-229.97C349.11,-217.9 318.99,-204.08 290.93,-191.21\"/>\n",
       "<polygon fill=\"black\" stroke=\"black\" points=\"292.05,-187.87 281.51,-186.88 289.14,-194.23 292.05,-187.87\"/>\n",
       "</g>\n",
       "<!-- 5 -->\n",
       "<g id=\"node6\" class=\"node\">\n",
       "<title>5</title>\n",
       "<polygon fill=\"none\" stroke=\"black\" points=\"516.5,-187 380.5,-187 380.5,-104 516.5,-104 516.5,-187\"/>\n",
       "<text text-anchor=\"middle\" x=\"448.5\" y=\"-171.8\" font-family=\"Helvetica,sans-Serif\" font-size=\"14.00\">nb_qm &lt;= 0.965</text>\n",
       "<text text-anchor=\"middle\" x=\"448.5\" y=\"-156.8\" font-family=\"Helvetica,sans-Serif\" font-size=\"14.00\">gini = 0.139</text>\n",
       "<text text-anchor=\"middle\" x=\"448.5\" y=\"-141.8\" font-family=\"Helvetica,sans-Serif\" font-size=\"14.00\">samples = 3794</text>\n",
       "<text text-anchor=\"middle\" x=\"448.5\" y=\"-126.8\" font-family=\"Helvetica,sans-Serif\" font-size=\"14.00\">value = [3509, 285]</text>\n",
       "<text text-anchor=\"middle\" x=\"448.5\" y=\"-111.8\" font-family=\"Helvetica,sans-Serif\" font-size=\"14.00\">class = legitimate</text>\n",
       "</g>\n",
       "<!-- 1&#45;&gt;5 -->\n",
       "<g id=\"edge5\" class=\"edge\">\n",
       "<title>1&#45;&gt;5</title>\n",
       "<path fill=\"none\" stroke=\"black\" d=\"M448.5,-222.91C448.5,-214.65 448.5,-205.86 448.5,-197.3\"/>\n",
       "<polygon fill=\"black\" stroke=\"black\" points=\"452,-197.02 448.5,-187.02 445,-197.02 452,-197.02\"/>\n",
       "</g>\n",
       "<!-- 3 -->\n",
       "<g id=\"node4\" class=\"node\">\n",
       "<title>3</title>\n",
       "<polygon fill=\"none\" stroke=\"black\" points=\"117,-68 0,-68 0,0 117,0 117,-68\"/>\n",
       "<text text-anchor=\"middle\" x=\"58.5\" y=\"-52.8\" font-family=\"Helvetica,sans-Serif\" font-size=\"14.00\">gini = 0.5</text>\n",
       "<text text-anchor=\"middle\" x=\"58.5\" y=\"-37.8\" font-family=\"Helvetica,sans-Serif\" font-size=\"14.00\">samples = 101</text>\n",
       "<text text-anchor=\"middle\" x=\"58.5\" y=\"-22.8\" font-family=\"Helvetica,sans-Serif\" font-size=\"14.00\">value = [49, 52]</text>\n",
       "<text text-anchor=\"middle\" x=\"58.5\" y=\"-7.8\" font-family=\"Helvetica,sans-Serif\" font-size=\"14.00\">class = phishing</text>\n",
       "</g>\n",
       "<!-- 2&#45;&gt;3 -->\n",
       "<g id=\"edge3\" class=\"edge\">\n",
       "<title>2&#45;&gt;3</title>\n",
       "<path fill=\"none\" stroke=\"black\" d=\"M143.23,-103.73C131.54,-94.24 119.1,-84.16 107.46,-74.72\"/>\n",
       "<polygon fill=\"black\" stroke=\"black\" points=\"109.53,-71.88 99.55,-68.3 105.12,-77.32 109.53,-71.88\"/>\n",
       "</g>\n",
       "<!-- 4 -->\n",
       "<g id=\"node5\" class=\"node\">\n",
       "<title>4</title>\n",
       "<polygon fill=\"none\" stroke=\"black\" points=\"252,-68 135,-68 135,0 252,0 252,-68\"/>\n",
       "<text text-anchor=\"middle\" x=\"193.5\" y=\"-52.8\" font-family=\"Helvetica,sans-Serif\" font-size=\"14.00\">gini = 0.096</text>\n",
       "<text text-anchor=\"middle\" x=\"193.5\" y=\"-37.8\" font-family=\"Helvetica,sans-Serif\" font-size=\"14.00\">samples = 99</text>\n",
       "<text text-anchor=\"middle\" x=\"193.5\" y=\"-22.8\" font-family=\"Helvetica,sans-Serif\" font-size=\"14.00\">value = [5, 94]</text>\n",
       "<text text-anchor=\"middle\" x=\"193.5\" y=\"-7.8\" font-family=\"Helvetica,sans-Serif\" font-size=\"14.00\">class = phishing</text>\n",
       "</g>\n",
       "<!-- 2&#45;&gt;4 -->\n",
       "<g id=\"edge4\" class=\"edge\">\n",
       "<title>2&#45;&gt;4</title>\n",
       "<path fill=\"none\" stroke=\"black\" d=\"M193.5,-103.73C193.5,-95.52 193.5,-86.86 193.5,-78.56\"/>\n",
       "<polygon fill=\"black\" stroke=\"black\" points=\"197,-78.3 193.5,-68.3 190,-78.3 197,-78.3\"/>\n",
       "</g>\n",
       "<!-- 6 -->\n",
       "<g id=\"node7\" class=\"node\">\n",
       "<title>6</title>\n",
       "<polygon fill=\"none\" stroke=\"black\" points=\"406.5,-68 270.5,-68 270.5,0 406.5,0 406.5,-68\"/>\n",
       "<text text-anchor=\"middle\" x=\"338.5\" y=\"-52.8\" font-family=\"Helvetica,sans-Serif\" font-size=\"14.00\">gini = 0.099</text>\n",
       "<text text-anchor=\"middle\" x=\"338.5\" y=\"-37.8\" font-family=\"Helvetica,sans-Serif\" font-size=\"14.00\">samples = 3593</text>\n",
       "<text text-anchor=\"middle\" x=\"338.5\" y=\"-22.8\" font-family=\"Helvetica,sans-Serif\" font-size=\"14.00\">value = [3406, 187]</text>\n",
       "<text text-anchor=\"middle\" x=\"338.5\" y=\"-7.8\" font-family=\"Helvetica,sans-Serif\" font-size=\"14.00\">class = legitimate</text>\n",
       "</g>\n",
       "<!-- 5&#45;&gt;6 -->\n",
       "<g id=\"edge6\" class=\"edge\">\n",
       "<title>5&#45;&gt;6</title>\n",
       "<path fill=\"none\" stroke=\"black\" d=\"M407.54,-103.73C398.29,-94.51 388.46,-84.74 379.22,-75.53\"/>\n",
       "<polygon fill=\"black\" stroke=\"black\" points=\"381.51,-72.87 371.95,-68.3 376.57,-77.84 381.51,-72.87\"/>\n",
       "</g>\n",
       "<!-- 7 -->\n",
       "<g id=\"node8\" class=\"node\">\n",
       "<title>7</title>\n",
       "<polygon fill=\"none\" stroke=\"black\" points=\"548.5,-68 424.5,-68 424.5,0 548.5,0 548.5,-68\"/>\n",
       "<text text-anchor=\"middle\" x=\"486.5\" y=\"-52.8\" font-family=\"Helvetica,sans-Serif\" font-size=\"14.00\">gini = 0.5</text>\n",
       "<text text-anchor=\"middle\" x=\"486.5\" y=\"-37.8\" font-family=\"Helvetica,sans-Serif\" font-size=\"14.00\">samples = 201</text>\n",
       "<text text-anchor=\"middle\" x=\"486.5\" y=\"-22.8\" font-family=\"Helvetica,sans-Serif\" font-size=\"14.00\">value = [103, 98]</text>\n",
       "<text text-anchor=\"middle\" x=\"486.5\" y=\"-7.8\" font-family=\"Helvetica,sans-Serif\" font-size=\"14.00\">class = legitimate</text>\n",
       "</g>\n",
       "<!-- 5&#45;&gt;7 -->\n",
       "<g id=\"edge7\" class=\"edge\">\n",
       "<title>5&#45;&gt;7</title>\n",
       "<path fill=\"none\" stroke=\"black\" d=\"M462.65,-103.73C465.56,-95.34 468.64,-86.47 471.58,-78.01\"/>\n",
       "<polygon fill=\"black\" stroke=\"black\" points=\"474.97,-78.89 474.94,-68.3 468.36,-76.6 474.97,-78.89\"/>\n",
       "</g>\n",
       "<!-- 9 -->\n",
       "<g id=\"node10\" class=\"node\">\n",
       "<title>9</title>\n",
       "<polygon fill=\"none\" stroke=\"black\" points=\"760.5,-187 576.5,-187 576.5,-104 760.5,-104 760.5,-187\"/>\n",
       "<text text-anchor=\"middle\" x=\"668.5\" y=\"-171.8\" font-family=\"Helvetica,sans-Serif\" font-size=\"14.00\">domain_in_brand &lt;= 1.304</text>\n",
       "<text text-anchor=\"middle\" x=\"668.5\" y=\"-156.8\" font-family=\"Helvetica,sans-Serif\" font-size=\"14.00\">gini = 0.063</text>\n",
       "<text text-anchor=\"middle\" x=\"668.5\" y=\"-141.8\" font-family=\"Helvetica,sans-Serif\" font-size=\"14.00\">samples = 2853</text>\n",
       "<text text-anchor=\"middle\" x=\"668.5\" y=\"-126.8\" font-family=\"Helvetica,sans-Serif\" font-size=\"14.00\">value = [93, 2760]</text>\n",
       "<text text-anchor=\"middle\" x=\"668.5\" y=\"-111.8\" font-family=\"Helvetica,sans-Serif\" font-size=\"14.00\">class = phishing</text>\n",
       "</g>\n",
       "<!-- 8&#45;&gt;9 -->\n",
       "<g id=\"edge9\" class=\"edge\">\n",
       "<title>8&#45;&gt;9</title>\n",
       "<path fill=\"none\" stroke=\"black\" d=\"M668.5,-222.91C668.5,-214.65 668.5,-205.86 668.5,-197.3\"/>\n",
       "<polygon fill=\"black\" stroke=\"black\" points=\"672,-197.02 668.5,-187.02 665,-197.02 672,-197.02\"/>\n",
       "</g>\n",
       "<!-- 12 -->\n",
       "<g id=\"node13\" class=\"node\">\n",
       "<title>12</title>\n",
       "<polygon fill=\"none\" stroke=\"black\" points=\"1002,-187 835,-187 835,-104 1002,-104 1002,-187\"/>\n",
       "<text text-anchor=\"middle\" x=\"918.5\" y=\"-171.8\" font-family=\"Helvetica,sans-Serif\" font-size=\"14.00\">nb_hyperlinks &lt;= &#45;0.298</text>\n",
       "<text text-anchor=\"middle\" x=\"918.5\" y=\"-156.8\" font-family=\"Helvetica,sans-Serif\" font-size=\"14.00\">gini = 0.464</text>\n",
       "<text text-anchor=\"middle\" x=\"918.5\" y=\"-141.8\" font-family=\"Helvetica,sans-Serif\" font-size=\"14.00\">samples = 1725</text>\n",
       "<text text-anchor=\"middle\" x=\"918.5\" y=\"-126.8\" font-family=\"Helvetica,sans-Serif\" font-size=\"14.00\">value = [630, 1095]</text>\n",
       "<text text-anchor=\"middle\" x=\"918.5\" y=\"-111.8\" font-family=\"Helvetica,sans-Serif\" font-size=\"14.00\">class = phishing</text>\n",
       "</g>\n",
       "<!-- 8&#45;&gt;12 -->\n",
       "<g id=\"edge12\" class=\"edge\">\n",
       "<title>8&#45;&gt;12</title>\n",
       "<path fill=\"none\" stroke=\"black\" d=\"M741.82,-229.19C767.97,-216.95 797.78,-203 825.37,-190.09\"/>\n",
       "<polygon fill=\"black\" stroke=\"black\" points=\"827.06,-193.16 834.63,-185.75 824.09,-186.82 827.06,-193.16\"/>\n",
       "</g>\n",
       "<!-- 10 -->\n",
       "<g id=\"node11\" class=\"node\">\n",
       "<title>10</title>\n",
       "<polygon fill=\"none\" stroke=\"black\" points=\"694.5,-68 566.5,-68 566.5,0 694.5,0 694.5,-68\"/>\n",
       "<text text-anchor=\"middle\" x=\"630.5\" y=\"-52.8\" font-family=\"Helvetica,sans-Serif\" font-size=\"14.00\">gini = 0.058</text>\n",
       "<text text-anchor=\"middle\" x=\"630.5\" y=\"-37.8\" font-family=\"Helvetica,sans-Serif\" font-size=\"14.00\">samples = 2845</text>\n",
       "<text text-anchor=\"middle\" x=\"630.5\" y=\"-22.8\" font-family=\"Helvetica,sans-Serif\" font-size=\"14.00\">value = [85, 2760]</text>\n",
       "<text text-anchor=\"middle\" x=\"630.5\" y=\"-7.8\" font-family=\"Helvetica,sans-Serif\" font-size=\"14.00\">class = phishing</text>\n",
       "</g>\n",
       "<!-- 9&#45;&gt;10 -->\n",
       "<g id=\"edge10\" class=\"edge\">\n",
       "<title>9&#45;&gt;10</title>\n",
       "<path fill=\"none\" stroke=\"black\" d=\"M654.35,-103.73C651.44,-95.34 648.36,-86.47 645.42,-78.01\"/>\n",
       "<polygon fill=\"black\" stroke=\"black\" points=\"648.64,-76.6 642.06,-68.3 642.03,-78.89 648.64,-76.6\"/>\n",
       "</g>\n",
       "<!-- 11 -->\n",
       "<g id=\"node12\" class=\"node\">\n",
       "<title>11</title>\n",
       "<polygon fill=\"none\" stroke=\"black\" points=\"836.5,-68 712.5,-68 712.5,0 836.5,0 836.5,-68\"/>\n",
       "<text text-anchor=\"middle\" x=\"774.5\" y=\"-52.8\" font-family=\"Helvetica,sans-Serif\" font-size=\"14.00\">gini = 0.0</text>\n",
       "<text text-anchor=\"middle\" x=\"774.5\" y=\"-37.8\" font-family=\"Helvetica,sans-Serif\" font-size=\"14.00\">samples = 8</text>\n",
       "<text text-anchor=\"middle\" x=\"774.5\" y=\"-22.8\" font-family=\"Helvetica,sans-Serif\" font-size=\"14.00\">value = [8, 0]</text>\n",
       "<text text-anchor=\"middle\" x=\"774.5\" y=\"-7.8\" font-family=\"Helvetica,sans-Serif\" font-size=\"14.00\">class = legitimate</text>\n",
       "</g>\n",
       "<!-- 9&#45;&gt;11 -->\n",
       "<g id=\"edge11\" class=\"edge\">\n",
       "<title>9&#45;&gt;11</title>\n",
       "<path fill=\"none\" stroke=\"black\" d=\"M707.97,-103.73C716.89,-94.51 726.35,-84.74 735.26,-75.53\"/>\n",
       "<polygon fill=\"black\" stroke=\"black\" points=\"737.82,-77.92 742.26,-68.3 732.79,-73.05 737.82,-77.92\"/>\n",
       "</g>\n",
       "<!-- 13 -->\n",
       "<g id=\"node14\" class=\"node\">\n",
       "<title>13</title>\n",
       "<polygon fill=\"none\" stroke=\"black\" points=\"982.5,-68 854.5,-68 854.5,0 982.5,0 982.5,-68\"/>\n",
       "<text text-anchor=\"middle\" x=\"918.5\" y=\"-52.8\" font-family=\"Helvetica,sans-Serif\" font-size=\"14.00\">gini = 0.27</text>\n",
       "<text text-anchor=\"middle\" x=\"918.5\" y=\"-37.8\" font-family=\"Helvetica,sans-Serif\" font-size=\"14.00\">samples = 1142</text>\n",
       "<text text-anchor=\"middle\" x=\"918.5\" y=\"-22.8\" font-family=\"Helvetica,sans-Serif\" font-size=\"14.00\">value = [184, 958]</text>\n",
       "<text text-anchor=\"middle\" x=\"918.5\" y=\"-7.8\" font-family=\"Helvetica,sans-Serif\" font-size=\"14.00\">class = phishing</text>\n",
       "</g>\n",
       "<!-- 12&#45;&gt;13 -->\n",
       "<g id=\"edge13\" class=\"edge\">\n",
       "<title>12&#45;&gt;13</title>\n",
       "<path fill=\"none\" stroke=\"black\" d=\"M918.5,-103.73C918.5,-95.52 918.5,-86.86 918.5,-78.56\"/>\n",
       "<polygon fill=\"black\" stroke=\"black\" points=\"922,-78.3 918.5,-68.3 915,-78.3 922,-78.3\"/>\n",
       "</g>\n",
       "<!-- 14 -->\n",
       "<g id=\"node15\" class=\"node\">\n",
       "<title>14</title>\n",
       "<polygon fill=\"none\" stroke=\"black\" points=\"1128.5,-68 1000.5,-68 1000.5,0 1128.5,0 1128.5,-68\"/>\n",
       "<text text-anchor=\"middle\" x=\"1064.5\" y=\"-52.8\" font-family=\"Helvetica,sans-Serif\" font-size=\"14.00\">gini = 0.36</text>\n",
       "<text text-anchor=\"middle\" x=\"1064.5\" y=\"-37.8\" font-family=\"Helvetica,sans-Serif\" font-size=\"14.00\">samples = 583</text>\n",
       "<text text-anchor=\"middle\" x=\"1064.5\" y=\"-22.8\" font-family=\"Helvetica,sans-Serif\" font-size=\"14.00\">value = [446, 137]</text>\n",
       "<text text-anchor=\"middle\" x=\"1064.5\" y=\"-7.8\" font-family=\"Helvetica,sans-Serif\" font-size=\"14.00\">class = legitimate</text>\n",
       "</g>\n",
       "<!-- 12&#45;&gt;14 -->\n",
       "<g id=\"edge14\" class=\"edge\">\n",
       "<title>12&#45;&gt;14</title>\n",
       "<path fill=\"none\" stroke=\"black\" d=\"M972.87,-103.73C985.63,-94.15 999.22,-83.96 1011.91,-74.44\"/>\n",
       "<polygon fill=\"black\" stroke=\"black\" points=\"1014.2,-77.1 1020.1,-68.3 1010,-71.5 1014.2,-77.1\"/>\n",
       "</g>\n",
       "</g>\n",
       "</svg>\n"
      ],
      "text/plain": [
       "<graphviz.files.Source at 0x7f8f6112c520>"
      ]
     },
     "metadata": {},
     "output_type": "display_data"
    }
   ],
   "source": [
    "dtree = DecisionTreeClassifier(max_depth = 3).fit(X_train, y_train)\n",
    "\n",
    "import graphviz\n",
    "from sklearn import tree\n",
    "\n",
    "#order of class names?\n",
    "tree.export_graphviz(dtree, out_file=\"tree.dot\", class_names=[\"legitimate\",\"phishing\"], feature_names = X.columns)\n",
    "\n",
    "with open(\"tree.dot\") as f:\n",
    "    dot_graph = f.read()\n",
    "    display(graphviz.Source(dot_graph))"
   ]
  },
  {
   "cell_type": "markdown",
   "id": "c3d570a5",
   "metadata": {},
   "source": [
    "### Random Forest Classifier"
   ]
  },
  {
   "cell_type": "code",
   "execution_count": 15,
   "id": "d516b5d7",
   "metadata": {},
   "outputs": [
    {
     "name": "stdout",
     "output_type": "stream",
     "text": [
      "Accuracy on training set: 1.0000\n",
      "Accuracy on test set: 0.9612\n"
     ]
    }
   ],
   "source": [
    "#Random Forest Classifier\n",
    "from sklearn.ensemble import RandomForestClassifier\n",
    "\n",
    "rfc = RandomForestClassifier(random_state=0).fit(X_train, y_train)\n",
    "\n",
    "print(\"Accuracy on training set: {:.4f}\".format(rfc.score(X_train, y_train)))\n",
    "print(\"Accuracy on test set: {:.4f}\".format(rfc.score(X_test, y_test)))"
   ]
  },
  {
   "cell_type": "code",
   "execution_count": 16,
   "id": "07959ba0",
   "metadata": {},
   "outputs": [
    {
     "name": "stdout",
     "output_type": "stream",
     "text": [
      "Train    Test   n_estimators\n",
      "0.9984   0.9500   10  \n",
      "1.0000   0.9577   60  \n",
      "1.0000   0.9612   110  \n",
      "1.0000   0.9615   160  \n",
      "1.0000   0.9619   210  \n",
      "1.0000   0.9608   260  \n",
      "1.0000   0.9615   310  \n",
      "1.0000   0.9612   360  \n",
      "1.0000   0.9622   410  \n",
      "1.0000   0.9622   460  \n"
     ]
    }
   ],
   "source": [
    "#test of n-estimators\n",
    "train_scores = []\n",
    "test_scores = []\n",
    "\n",
    "print(\"Train    Test   n_estimators\")\n",
    "for n in range(10, 500, 50):\n",
    "    rfc = RandomForestClassifier(random_state = 0, n_estimators = n).fit(X_train, y_train)\n",
    "       \n",
    "    train = rfc.score(X_train, y_train)\n",
    "    train_scores.append(train)\n",
    "    \n",
    "    test = rfc.score(X_test, y_test)   \n",
    "    test_scores.append(test)\n",
    "\n",
    "    print(\"{:.4f}   {:.4f}   {}  \".format(train, test, n))"
   ]
  },
  {
   "cell_type": "code",
   "execution_count": 17,
   "id": "24ad720d",
   "metadata": {},
   "outputs": [
    {
     "data": {
      "image/png": "[encoded data removed]",
      "text/plain": [
       "<Figure size 432x288 with 1 Axes>"
      ]
     },
     "metadata": {
      "needs_background": "light"
     },
     "output_type": "display_data"
    }
   ],
   "source": [
    "#plot train and test scores\n",
    "#x axis - a list of the values for number of estimators\n",
    "x = range(10,500,50)\n",
    "#y axis - list of train scores\n",
    "plt.plot(x, test_scores, label=\"Test scores\")\n",
    "plt.plot(x, train_scores, label=\"Train scores\")\n",
    "plt.ylabel(\"Accuracy\")\n",
    "plt.xlabel(\"Number of estimators\")\n",
    "plt.legend(loc=\"best\")\n",
    "#show the plots\n",
    "plt.show()"
   ]
  },
  {
   "cell_type": "markdown",
   "id": "8ebf4c1b",
   "metadata": {},
   "source": [
    "### MLP"
   ]
  },
  {
   "cell_type": "code",
   "execution_count": 18,
   "id": "4e3274cc",
   "metadata": {},
   "outputs": [
    {
     "name": "stdout",
     "output_type": "stream",
     "text": [
      "Accuracy on training set: 1.0000\n",
      "Accuracy on test set: 0.9535\n"
     ]
    }
   ],
   "source": [
    "#MLP\n",
    "from sklearn.neural_network import MLPClassifier\n",
    "\n",
    "mlp = MLPClassifier(random_state = 0).fit(X_train, y_train)\n",
    "\n",
    "print(\"Accuracy on training set: {:.4f}\".format(mlp.score(X_train, y_train)))\n",
    "print(\"Accuracy on test set: {:.4f}\".format(mlp.score(X_test, y_test)))"
   ]
  },
  {
   "cell_type": "code",
   "execution_count": 49,
   "id": "7413ac7a",
   "metadata": {},
   "outputs": [
    {
     "name": "stdout",
     "output_type": "stream",
     "text": [
      "Test       Train       Number of hidden layers\n",
      "1.0000     0.9535      100  \n",
      "1.0000     0.9559      200  \n",
      "1.0000     0.9552      300  \n",
      "1.0000     0.9566      400  \n",
      "0.9920     0.9517      500  \n",
      "0.9988     0.9559      600  \n",
      "0.9991     0.9531      700  \n",
      "0.9998     0.9528      800  \n",
      "0.9999     0.9563      900  \n",
      "0.9944     0.9531      1000  \n"
     ]
    }
   ],
   "source": [
    "#test of hidden layers\n",
    "train_scores = []\n",
    "test_scores = []\n",
    "\n",
    "print(\"Test       Train       Number of hidden layers\")\n",
    "for n in range(100, 1001, 100):\n",
    "    mlp = MLPClassifier(random_state = 0, hidden_layer_sizes=(n)).fit(X_train, y_train)\n",
    "       \n",
    "    train = mlp.score(X_train,y_train)\n",
    "    train_scores.append(train)\n",
    "    \n",
    "    test = mlp.score(X_test,y_test)\n",
    "    test_scores.append(test)\n",
    "       \n",
    "    print(\"{:.4f}     {:.4f}      {}  \".format(train, test, n))"
   ]
  },
  {
   "cell_type": "code",
   "execution_count": 50,
   "id": "20b324b2",
   "metadata": {},
   "outputs": [
    {
     "data": {
      "image/png": "[encoded data removed]",
      "text/plain": [
       "<Figure size 432x288 with 1 Axes>"
      ]
     },
     "metadata": {
      "needs_background": "light"
     },
     "output_type": "display_data"
    }
   ],
   "source": [
    "x = range(100, 1001, 100)\n",
    "\n",
    "plt.plot(x, test_scores, label=\"Test scores\")\n",
    "plt.plot(x, train_scores, label=\"Train scores\")\n",
    "plt.ylabel(\"Accuracy\")\n",
    "plt.xlabel(\"Number of hidden layers\")\n",
    "plt.show()"
   ]
  }
 ],
 "metadata": {
  "kernelspec": {
   "display_name": "Python 3 (ipykernel)",
   "language": "python",
   "name": "python3"
  },
  "language_info": {
   "codemirror_mode": {
    "name": "ipython",
    "version": 3
   },
   "file_extension": ".py",
   "mimetype": "text/x-python",
   "name": "python",
   "nbconvert_exporter": "python",
   "pygments_lexer": "ipython3",
   "version": "3.8.12"
  }
 },
 "nbformat": 4,
 "nbformat_minor": 5
}
